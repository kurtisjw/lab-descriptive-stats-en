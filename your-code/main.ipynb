{
 "cells": [
  {
   "cell_type": "markdown",
   "metadata": {},
   "source": [
    "# Before you start :\n",
    "   - These exercises are related to the Subsetting and Descriptive Stats lessons.\n",
    "   - Keep in mind that you need to use some of the functions you learned in the previous lessons.\n",
    "   - All datasets are provided in the `your-code` folder of this lab.\n",
    "   - Elaborate your codes and outputs as much as you can.\n",
    "   - Try your best to answer the questions and complete the tasks and most importantly enjoy the process!!!"
   ]
  },
  {
   "cell_type": "markdown",
   "metadata": {},
   "source": [
    "#### Import all the libraries that are necessary"
   ]
  },
  {
   "cell_type": "code",
   "execution_count": 1,
   "metadata": {},
   "outputs": [],
   "source": [
    "# Import necessary libraries\n",
    "import pandas as pd\n",
    "import numpy as np\n",
    "import matplotlib.pyplot as plt\n",
    "import seaborn as sns"
   ]
  },
  {
   "cell_type": "markdown",
   "metadata": {},
   "source": [
    "# Challenge 1"
   ]
  },
  {
   "cell_type": "markdown",
   "metadata": {},
   "source": [
    "#### In this challenge we will use the `Temp_States.csv` file. \n",
    "\n",
    "#### First import it into a data frame called `temp`."
   ]
  },
  {
   "cell_type": "code",
   "execution_count": 8,
   "metadata": {},
   "outputs": [],
   "source": [
    "# Load the Temp_States.csv file into a DataFrame\n",
    "temp = pd.read_csv('Temp_States.csv')"
   ]
  },
  {
   "cell_type": "markdown",
   "metadata": {},
   "source": [
    "#### Print `temp`"
   ]
  },
  {
   "cell_type": "code",
   "execution_count": 9,
   "metadata": {},
   "outputs": [
    {
     "name": "stdout",
     "output_type": "stream",
     "text": [
      "         City        State  Temperature\n",
      "0         NYC     New York    19.444444\n",
      "1      Albany     New York     9.444444\n",
      "2     Buffalo     New York     3.333333\n",
      "3    Hartford  Connecticut    17.222222\n",
      "4  Bridgeport  Connecticut    14.444444\n",
      "5      Treton   New Jersey    22.222222\n",
      "6      Newark   New Jersey    20.000000\n"
     ]
    }
   ],
   "source": [
    "# Display first few rows of DataFrame\n",
    "print(temp.head(10))"
   ]
  },
  {
   "cell_type": "markdown",
   "metadata": {},
   "source": [
    "#### Explore the data types of the Temp dataframe. What type of data do we have? Comment your result."
   ]
  },
  {
   "cell_type": "code",
   "execution_count": 10,
   "metadata": {},
   "outputs": [
    {
     "name": "stdout",
     "output_type": "stream",
     "text": [
      "City            object\n",
      "State           object\n",
      "Temperature    float64\n",
      "dtype: object\n",
      "<class 'pandas.core.frame.DataFrame'>\n",
      "RangeIndex: 7 entries, 0 to 6\n",
      "Data columns (total 3 columns):\n",
      " #   Column       Non-Null Count  Dtype  \n",
      "---  ------       --------------  -----  \n",
      " 0   City         7 non-null      object \n",
      " 1   State        7 non-null      object \n",
      " 2   Temperature  7 non-null      float64\n",
      "dtypes: float64(1), object(2)\n",
      "memory usage: 296.0+ bytes\n",
      "None\n"
     ]
    }
   ],
   "source": [
    "# Check data types of each column\n",
    "\n",
    "print(temp.dtypes)\n",
    "\n",
    "#Alternatively, use .info for a quick overview of the DataFrame\n",
    "print(temp.info())"
   ]
  },
  {
   "cell_type": "markdown",
   "metadata": {},
   "source": [
    "#### Select the rows where state is New York"
   ]
  },
  {
   "cell_type": "code",
   "execution_count": 11,
   "metadata": {},
   "outputs": [
    {
     "name": "stdout",
     "output_type": "stream",
     "text": [
      "      City     State  Temperature\n",
      "0      NYC  New York    19.444444\n",
      "1   Albany  New York     9.444444\n",
      "2  Buffalo  New York     3.333333\n"
     ]
    }
   ],
   "source": [
    "new_york_rows = temp.query('State == \"New York\"')\n",
    "print(new_york_rows)"
   ]
  },
  {
   "cell_type": "markdown",
   "metadata": {},
   "source": [
    "#### What is the average of the temperature of cities in New York?"
   ]
  },
  {
   "cell_type": "code",
   "execution_count": 12,
   "metadata": {},
   "outputs": [
    {
     "name": "stdout",
     "output_type": "stream",
     "text": [
      "10.74074074074074\n"
     ]
    }
   ],
   "source": [
    "new_york_temps = new_york_rows[\"Temperature\"]\n",
    "average_ny_temps = new_york_temps.mean()\n",
    "print(average_ny_temps)"
   ]
  },
  {
   "cell_type": "markdown",
   "metadata": {},
   "source": [
    "#### We want to know cities and states with Temperature above 15 degress Celcius"
   ]
  },
  {
   "cell_type": "code",
   "execution_count": 13,
   "metadata": {},
   "outputs": [
    {
     "name": "stdout",
     "output_type": "stream",
     "text": [
      "       City        State\n",
      "0       NYC     New York\n",
      "3  Hartford  Connecticut\n",
      "5    Treton   New Jersey\n",
      "6    Newark   New Jersey\n"
     ]
    }
   ],
   "source": [
    "above_15_degrees = temp.query('Temperature > 15')\n",
    "result = above_15_degrees[['City', 'State']]\n",
    "print(result)"
   ]
  },
  {
   "cell_type": "markdown",
   "metadata": {},
   "source": [
    "#### Now, return only the cities that have a temperature above 15 degress Celcius"
   ]
  },
  {
   "cell_type": "code",
   "execution_count": 14,
   "metadata": {},
   "outputs": [
    {
     "name": "stdout",
     "output_type": "stream",
     "text": [
      "0         NYC\n",
      "3    Hartford\n",
      "5      Treton\n",
      "6      Newark\n",
      "Name: City, dtype: object\n"
     ]
    }
   ],
   "source": [
    "result_cities = above_15_degrees['City']\n",
    "print(result_cities)"
   ]
  },
  {
   "cell_type": "markdown",
   "metadata": {},
   "source": [
    "#### We want to know which cities have a temperature above 15 degrees Celcius and below 20 degrees Celcius\n",
    "\n",
    "*Hint: First write the condition then select the rows.*"
   ]
  },
  {
   "cell_type": "code",
   "execution_count": 16,
   "metadata": {},
   "outputs": [
    {
     "name": "stdout",
     "output_type": "stream",
     "text": [
      "0         NYC\n",
      "3    Hartford\n",
      "Name: City, dtype: object\n"
     ]
    }
   ],
   "source": [
    "between_15_20 = temp.query('15 < Temperature < 20')\n",
    "result_cities_15_20 = between_15_20['City']\n",
    "print(result_cities_15_20)"
   ]
  },
  {
   "cell_type": "code",
   "execution_count": null,
   "metadata": {},
   "outputs": [],
   "source": [
    "temp['State'].value_counts()"
   ]
  },
  {
   "cell_type": "markdown",
   "metadata": {},
   "source": [
    "#### Find the mean and the standard deviation of the temperature of each state.\n",
    "\n",
    "*Hint: Use functions from Data Manipulation lesson*"
   ]
  },
  {
   "cell_type": "code",
   "execution_count": 17,
   "metadata": {},
   "outputs": [
    {
     "name": "stdout",
     "output_type": "stream",
     "text": [
      "                  mean       std\n",
      "State                           \n",
      "Connecticut  15.833333  1.964186\n",
      "New Jersey   21.111111  1.571348\n",
      "New York     10.740741  8.133404\n"
     ]
    }
   ],
   "source": [
    "# Group by 'State' and calculate mean and standard deviation of temperature\n",
    "state_temperature = temp.groupby('State')['Temperature'].agg(['mean', 'std'])\n",
    "print(state_temperature)"
   ]
  },
  {
   "cell_type": "markdown",
   "metadata": {
    "collapsed": true,
    "jupyter": {
     "outputs_hidden": true
    }
   },
   "source": [
    "# Challenge 2"
   ]
  },
  {
   "cell_type": "markdown",
   "metadata": {},
   "source": [
    "#### Load the `employee.csv` file into a DataFrame. Call the dataframe `employee`"
   ]
  },
  {
   "cell_type": "code",
   "execution_count": 18,
   "metadata": {},
   "outputs": [],
   "source": [
    "employee = pd.read_csv('Employee.csv')"
   ]
  },
  {
   "cell_type": "markdown",
   "metadata": {},
   "source": [
    "#### Explore the data types of the Temp dataframe. Comment your results"
   ]
  },
  {
   "cell_type": "code",
   "execution_count": 22,
   "metadata": {},
   "outputs": [
    {
     "name": "stdout",
     "output_type": "stream",
     "text": [
      "Name          object\n",
      "Department    object\n",
      "Education     object\n",
      "Gender        object\n",
      "Title         object\n",
      "Years          int64\n",
      "Salary         int64\n",
      "dtype: object\n"
     ]
    }
   ],
   "source": [
    "print(employee.dtypes)"
   ]
  },
  {
   "cell_type": "markdown",
   "metadata": {},
   "source": [
    "#### Show visually the frequency distribution (histogram) of the employee dataset. In few words describe these histograms?"
   ]
  },
  {
   "cell_type": "code",
   "execution_count": 25,
   "metadata": {},
   "outputs": [
    {
     "data": {
      "image/png": "[encoded data removed]",
      "text/plain": [
       "<Figure size 640x480 with 2 Axes>"
      ]
     },
     "metadata": {},
     "output_type": "display_data"
    }
   ],
   "source": [
    "# Plot histogram of employee dataset\n",
    "employee.hist()\n",
    "\n",
    "# Display histogram plot\n",
    "plt.show()"
   ]
  },
  {
   "cell_type": "markdown",
   "metadata": {},
   "source": [
    "#### What's the average salary in this company?"
   ]
  },
  {
   "cell_type": "code",
   "execution_count": 27,
   "metadata": {},
   "outputs": [
    {
     "name": "stdout",
     "output_type": "stream",
     "text": [
      "48.888888888888886\n"
     ]
    }
   ],
   "source": [
    "salary = employee[\"Salary\"]\n",
    "average_salary = salary.mean()\n",
    "print(average_salary)"
   ]
  },
  {
   "cell_type": "markdown",
   "metadata": {},
   "source": [
    "#### What's the highest salary?"
   ]
  },
  {
   "cell_type": "code",
   "execution_count": 28,
   "metadata": {},
   "outputs": [
    {
     "name": "stdout",
     "output_type": "stream",
     "text": [
      "70\n"
     ]
    }
   ],
   "source": [
    "highest_salary = salary.max()\n",
    "print(highest_salary)"
   ]
  },
  {
   "cell_type": "markdown",
   "metadata": {},
   "source": [
    "#### What's the lowest salary?"
   ]
  },
  {
   "cell_type": "code",
   "execution_count": 29,
   "metadata": {},
   "outputs": [
    {
     "data": {
      "text/plain": [
       "<function print>"
      ]
     },
     "execution_count": 29,
     "metadata": {},
     "output_type": "execute_result"
    }
   ],
   "source": [
    "lowest_salary = salary.min()\n",
    "print"
   ]
  },
  {
   "cell_type": "markdown",
   "metadata": {},
   "source": [
    "#### Who are the employees with the lowest salary?"
   ]
  },
  {
   "cell_type": "code",
   "execution_count": 31,
   "metadata": {},
   "outputs": [
    {
     "name": "stdout",
     "output_type": "stream",
     "text": [
      "    Name Department Education Gender    Title  Years  Salary\n",
      "1  Maria         IT    Master      F  analyst      2      30\n",
      "2  David         HR    Master      M  analyst      2      30\n"
     ]
    }
   ],
   "source": [
    "lowest_paid_employees = employee.query('Salary == @lowest_salary')\n",
    "print(lowest_paid_employees)"
   ]
  },
  {
   "cell_type": "markdown",
   "metadata": {},
   "source": [
    "#### Could you give all the information about an employee called David?"
   ]
  },
  {
   "cell_type": "code",
   "execution_count": 35,
   "metadata": {},
   "outputs": [
    {
     "name": "stdout",
     "output_type": "stream",
     "text": [
      "    Name Department Education Gender    Title  Years  Salary\n",
      "2  David         HR    Master      M  analyst      2      30\n"
     ]
    }
   ],
   "source": [
    "david = employee.query('Name == \"David\"')\n",
    "print(david)"
   ]
  },
  {
   "cell_type": "markdown",
   "metadata": {},
   "source": [
    "#### Could you give only David's salary?"
   ]
  },
  {
   "cell_type": "code",
   "execution_count": 40,
   "metadata": {},
   "outputs": [
    {
     "name": "stdout",
     "output_type": "stream",
     "text": [
      "30\n"
     ]
    }
   ],
   "source": [
    "salary_david = david['Salary'].values[0]\n",
    "print(salary_david)"
   ]
  },
  {
   "cell_type": "markdown",
   "metadata": {},
   "source": [
    "#### Print all the rows where job title is associate"
   ]
  },
  {
   "cell_type": "code",
   "execution_count": 43,
   "metadata": {},
   "outputs": [
    {
     "name": "stdout",
     "output_type": "stream",
     "text": [
      "     Name Department Education Gender      Title  Years  Salary\n",
      "4  Samuel      Sales    Master      M  associate      3      55\n",
      "5     Eva      Sales  Bachelor      F  associate      2      55\n",
      "7   Pedro         IT       Phd      M  associate      7      60\n"
     ]
    }
   ],
   "source": [
    "associates = employee.query('Title == \"associate\"')\n",
    "print(associates)"
   ]
  },
  {
   "cell_type": "markdown",
   "metadata": {},
   "source": [
    "#### Print the first 3 rows of your dataframe\n",
    "\n",
    "##### Tip : There are 2 ways to do it. Do it both ways"
   ]
  },
  {
   "cell_type": "code",
   "execution_count": 44,
   "metadata": {},
   "outputs": [
    {
     "data": {
      "text/html": [
       "<div>\n",
       "<style scoped>\n",
       "    .dataframe tbody tr th:only-of-type {\n",
       "        vertical-align: middle;\n",
       "    }\n",
       "\n",
       "    .dataframe tbody tr th {\n",
       "        vertical-align: top;\n",
       "    }\n",
       "\n",
       "    .dataframe thead th {\n",
       "        text-align: right;\n",
       "    }\n",
       "</style>\n",
       "<table border=\"1\" class=\"dataframe\">\n",
       "  <thead>\n",
       "    <tr style=\"text-align: right;\">\n",
       "      <th></th>\n",
       "      <th>Name</th>\n",
       "      <th>Department</th>\n",
       "      <th>Education</th>\n",
       "      <th>Gender</th>\n",
       "      <th>Title</th>\n",
       "      <th>Years</th>\n",
       "      <th>Salary</th>\n",
       "    </tr>\n",
       "  </thead>\n",
       "  <tbody>\n",
       "    <tr>\n",
       "      <th>0</th>\n",
       "      <td>Jose</td>\n",
       "      <td>IT</td>\n",
       "      <td>Bachelor</td>\n",
       "      <td>M</td>\n",
       "      <td>analyst</td>\n",
       "      <td>1</td>\n",
       "      <td>35</td>\n",
       "    </tr>\n",
       "    <tr>\n",
       "      <th>1</th>\n",
       "      <td>Maria</td>\n",
       "      <td>IT</td>\n",
       "      <td>Master</td>\n",
       "      <td>F</td>\n",
       "      <td>analyst</td>\n",
       "      <td>2</td>\n",
       "      <td>30</td>\n",
       "    </tr>\n",
       "    <tr>\n",
       "      <th>2</th>\n",
       "      <td>David</td>\n",
       "      <td>HR</td>\n",
       "      <td>Master</td>\n",
       "      <td>M</td>\n",
       "      <td>analyst</td>\n",
       "      <td>2</td>\n",
       "      <td>30</td>\n",
       "    </tr>\n",
       "  </tbody>\n",
       "</table>\n",
       "</div>"
      ],
      "text/plain": [
       "    Name Department Education Gender    Title  Years  Salary\n",
       "0   Jose         IT  Bachelor      M  analyst      1      35\n",
       "1  Maria         IT    Master      F  analyst      2      30\n",
       "2  David         HR    Master      M  analyst      2      30"
      ]
     },
     "execution_count": 44,
     "metadata": {},
     "output_type": "execute_result"
    }
   ],
   "source": [
    "employee.head(3)"
   ]
  },
  {
   "cell_type": "code",
   "execution_count": 46,
   "metadata": {},
   "outputs": [
    {
     "data": {
      "text/html": [
       "<div>\n",
       "<style scoped>\n",
       "    .dataframe tbody tr th:only-of-type {\n",
       "        vertical-align: middle;\n",
       "    }\n",
       "\n",
       "    .dataframe tbody tr th {\n",
       "        vertical-align: top;\n",
       "    }\n",
       "\n",
       "    .dataframe thead th {\n",
       "        text-align: right;\n",
       "    }\n",
       "</style>\n",
       "<table border=\"1\" class=\"dataframe\">\n",
       "  <thead>\n",
       "    <tr style=\"text-align: right;\">\n",
       "      <th></th>\n",
       "      <th>Name</th>\n",
       "      <th>Department</th>\n",
       "      <th>Education</th>\n",
       "      <th>Gender</th>\n",
       "      <th>Title</th>\n",
       "      <th>Years</th>\n",
       "      <th>Salary</th>\n",
       "    </tr>\n",
       "  </thead>\n",
       "  <tbody>\n",
       "    <tr>\n",
       "      <th>0</th>\n",
       "      <td>Jose</td>\n",
       "      <td>IT</td>\n",
       "      <td>Bachelor</td>\n",
       "      <td>M</td>\n",
       "      <td>analyst</td>\n",
       "      <td>1</td>\n",
       "      <td>35</td>\n",
       "    </tr>\n",
       "    <tr>\n",
       "      <th>1</th>\n",
       "      <td>Maria</td>\n",
       "      <td>IT</td>\n",
       "      <td>Master</td>\n",
       "      <td>F</td>\n",
       "      <td>analyst</td>\n",
       "      <td>2</td>\n",
       "      <td>30</td>\n",
       "    </tr>\n",
       "    <tr>\n",
       "      <th>2</th>\n",
       "      <td>David</td>\n",
       "      <td>HR</td>\n",
       "      <td>Master</td>\n",
       "      <td>M</td>\n",
       "      <td>analyst</td>\n",
       "      <td>2</td>\n",
       "      <td>30</td>\n",
       "    </tr>\n",
       "  </tbody>\n",
       "</table>\n",
       "</div>"
      ],
      "text/plain": [
       "    Name Department Education Gender    Title  Years  Salary\n",
       "0   Jose         IT  Bachelor      M  analyst      1      35\n",
       "1  Maria         IT    Master      F  analyst      2      30\n",
       "2  David         HR    Master      M  analyst      2      30"
      ]
     },
     "execution_count": 46,
     "metadata": {},
     "output_type": "execute_result"
    }
   ],
   "source": [
    "employee.iloc[:3]"
   ]
  },
  {
   "cell_type": "markdown",
   "metadata": {},
   "source": [
    "#### Find the employees who's title is associate and the salary above 55?"
   ]
  },
  {
   "cell_type": "code",
   "execution_count": 48,
   "metadata": {},
   "outputs": [
    {
     "name": "stdout",
     "output_type": "stream",
     "text": [
      "    Name Department Education Gender      Title  Years  Salary\n",
      "7  Pedro         IT       Phd      M  associate      7      60\n"
     ]
    }
   ],
   "source": [
    "associates_55 = employee.query('Title == \"associate\" and Salary > 55')\n",
    "print(associates_55)"
   ]
  },
  {
   "cell_type": "markdown",
   "metadata": {},
   "source": [
    "#### Group the employees based on their number of years of employment. What are the average salaries in each group?"
   ]
  },
  {
   "cell_type": "code",
   "execution_count": 51,
   "metadata": {},
   "outputs": [
    {
     "name": "stdout",
     "output_type": "stream",
     "text": [
      "Years\n",
      "1    35.000000\n",
      "2    38.333333\n",
      "3    55.000000\n",
      "4    35.000000\n",
      "7    60.000000\n",
      "8    70.000000\n",
      "Name: Salary, dtype: float64\n"
     ]
    }
   ],
   "source": [
    "average_salaries_by_year = employee.groupby('Years')['Salary'].mean()\n",
    "print(average_salaries_by_year)"
   ]
  },
  {
   "cell_type": "markdown",
   "metadata": {},
   "source": [
    "####  What is the average Salary per title?"
   ]
  },
  {
   "cell_type": "code",
   "execution_count": 53,
   "metadata": {},
   "outputs": [
    {
     "name": "stdout",
     "output_type": "stream",
     "text": [
      "Title\n",
      "VP           70.000000\n",
      "analyst      32.500000\n",
      "associate    56.666667\n",
      "Name: Salary, dtype: float64\n"
     ]
    }
   ],
   "source": [
    "average_salaries_by_title = employee.groupby('Title')['Salary'].mean()\n",
    "print(average_salaries_by_title)"
   ]
  },
  {
   "cell_type": "markdown",
   "metadata": {},
   "source": [
    "#### Show a visual summary of the data using boxplot. What Are the First and Third Quartiles? Comment your results.\n",
    "\n",
    "* Hint : Quantiles vs Quartiles*\n",
    "In Probability and Statistics, quantiles are cut points dividing the range of a probability distribution into continuous intervals with equal probabilities. When division is into four parts the values of the variate corresponding to 25%, 50% and 75% of the total distribution are called quartiles."
   ]
  },
  {
   "cell_type": "code",
   "execution_count": 55,
   "metadata": {},
   "outputs": [
    {
     "data": {
      "image/png": "[encoded data removed]",
      "text/plain": [
       "<Figure size 640x480 with 1 Axes>"
      ]
     },
     "metadata": {},
     "output_type": "display_data"
    }
   ],
   "source": [
    "employee.boxplot(column = 'Salary')\n",
    "plt.show()"
   ]
  },
  {
   "cell_type": "code",
   "execution_count": 60,
   "metadata": {},
   "outputs": [
    {
     "name": "stdout",
     "output_type": "stream",
     "text": [
      "35.0\n"
     ]
    }
   ],
   "source": [
    "# print first quartile here\n",
    "\n",
    "first_quartile = employee['Salary'].quantile(0.25)\n",
    "print(first_quartile)"
   ]
  },
  {
   "cell_type": "code",
   "execution_count": 63,
   "metadata": {},
   "outputs": [
    {
     "name": "stdout",
     "output_type": "stream",
     "text": [
      "60.0\n"
     ]
    }
   ],
   "source": [
    "# print third quartile here\n",
    "\n",
    "third_quartile = employee['Salary'].quantile(0.75)\n",
    "print(third_quartile)"
   ]
  },
  {
   "cell_type": "markdown",
   "metadata": {},
   "source": [
    "#### Is the mean salary per gender different?"
   ]
  },
  {
   "cell_type": "code",
   "execution_count": 64,
   "metadata": {},
   "outputs": [
    {
     "name": "stdout",
     "output_type": "stream",
     "text": [
      "Gender\n",
      "F    47.5\n",
      "M    50.0\n",
      "Name: Salary, dtype: float64\n"
     ]
    }
   ],
   "source": [
    "average_salaries_by_gender = employee.groupby('Gender')['Salary'].mean()\n",
    "print(average_salaries_by_gender)"
   ]
  },
  {
   "cell_type": "markdown",
   "metadata": {},
   "source": [
    "#### Find the minimum, mean and the maximum of all numeric columns for each Department.\n",
    "\n",
    "##### Hint: Use functions from Data Manipulation lesson"
   ]
  },
  {
   "cell_type": "code",
   "execution_count": 65,
   "metadata": {},
   "outputs": [
    {
     "name": "stdout",
     "output_type": "stream",
     "text": [
      "  Department Years               Salary           \n",
      "               min      mean max    min   mean max\n",
      "0         HR     2  4.666667   8     30  45.00  70\n",
      "1         IT     1  4.500000   8     30  48.75  70\n",
      "2      Sales     2  2.500000   3     55  55.00  55\n"
     ]
    }
   ],
   "source": [
    "min_mean_max = employee.groupby('Department').agg({\n",
    "    'Years': ['min', 'mean', 'max'],\n",
    "    'Salary': ['min', 'mean', 'max']\n",
    "}).reset_index()\n",
    "\n",
    "print(min_mean_max)"
   ]
  },
  {
   "cell_type": "markdown",
   "metadata": {},
   "source": [
    "### Bonus Question\n",
    "\n",
    "#### For each department, compute the difference between the maximal salary and the minimal salary.\n",
    "\n",
    "##### * Hint: try using `agg` or `apply` and `lambda`*"
   ]
  },
  {
   "cell_type": "code",
   "execution_count": 32,
   "metadata": {},
   "outputs": [
    {
     "name": "stdout",
     "output_type": "stream",
     "text": [
      "  Department  diff\n",
      "0         HR    40\n",
      "1         IT    40\n",
      "2      Sales     0\n"
     ]
    }
   ],
   "source": [
    "salary_difference = employee.groupby('Department').agg(\n",
    "    diff = ('Salary', lambda x: x.max() - x.min())\n",
    "    ).reset_index()\n",
    "print(salary_difference)"
   ]
  },
  {
   "cell_type": "markdown",
   "metadata": {
    "collapsed": true,
    "jupyter": {
     "outputs_hidden": true
    }
   },
   "source": [
    "# Challenge 3"
   ]
  },
  {
   "cell_type": "markdown",
   "metadata": {},
   "source": [
    "#### Open the Orders.csv dataset. Name your dataset orders"
   ]
  },
  {
   "cell_type": "code",
   "execution_count": 36,
   "metadata": {},
   "outputs": [],
   "source": [
    "orders = pd.read_csv('Orders.csv')"
   ]
  },
  {
   "cell_type": "markdown",
   "metadata": {},
   "source": [
    "#### Explore your dataset by looking at the data types and the summary statistics. Comment your results"
   ]
  },
  {
   "cell_type": "code",
   "execution_count": 37,
   "metadata": {},
   "outputs": [
    {
     "name": "stdout",
     "output_type": "stream",
     "text": [
      "Unnamed: 0        int64\n",
      "InvoiceNo         int64\n",
      "StockCode        object\n",
      "year              int64\n",
      "month             int64\n",
      "day               int64\n",
      "hour              int64\n",
      "Description      object\n",
      "Quantity          int64\n",
      "InvoiceDate      object\n",
      "UnitPrice       float64\n",
      "CustomerID        int64\n",
      "Country          object\n",
      "amount_spent    float64\n",
      "dtype: object\n"
     ]
    }
   ],
   "source": [
    "print(orders.dtypes)"
   ]
  },
  {
   "cell_type": "code",
   "execution_count": 38,
   "metadata": {},
   "outputs": [
    {
     "name": "stdout",
     "output_type": "stream",
     "text": [
      "   Unnamed: 0  InvoiceNo StockCode  year  month  day  hour  \\\n",
      "0           0     536365    85123A  2010     12    3     8   \n",
      "1           1     536365     71053  2010     12    3     8   \n",
      "2           2     536365    84406B  2010     12    3     8   \n",
      "3           3     536365    84029G  2010     12    3     8   \n",
      "4           4     536365    84029E  2010     12    3     8   \n",
      "\n",
      "                           Description  Quantity          InvoiceDate  \\\n",
      "0   white hanging heart t-light holder         6  2010-12-01 08:26:00   \n",
      "1                  white metal lantern         6  2010-12-01 08:26:00   \n",
      "2       cream cupid hearts coat hanger         8  2010-12-01 08:26:00   \n",
      "3  knitted union flag hot water bottle         6  2010-12-01 08:26:00   \n",
      "4       red woolly hottie white heart.         6  2010-12-01 08:26:00   \n",
      "\n",
      "   UnitPrice  CustomerID         Country  amount_spent  \n",
      "0       2.55       17850  United Kingdom         15.30  \n",
      "1       3.39       17850  United Kingdom         20.34  \n",
      "2       2.75       17850  United Kingdom         22.00  \n",
      "3       3.39       17850  United Kingdom         20.34  \n",
      "4       3.39       17850  United Kingdom         20.34  \n"
     ]
    }
   ],
   "source": [
    "print(orders.head())"
   ]
  },
  {
   "cell_type": "markdown",
   "metadata": {},
   "source": [
    "####  What is the average Purchase Price?"
   ]
  },
  {
   "cell_type": "code",
   "execution_count": 39,
   "metadata": {},
   "outputs": [
    {
     "name": "stdout",
     "output_type": "stream",
     "text": [
      "22.394748504739596\n"
     ]
    }
   ],
   "source": [
    "purchase_price = orders['amount_spent']\n",
    "average_purchase_price = purchase_price.mean()\n",
    "print(average_purchase_price)"
   ]
  },
  {
   "cell_type": "markdown",
   "metadata": {},
   "source": [
    "#### What were the highest and lowest purchase prices? "
   ]
  },
  {
   "cell_type": "code",
   "execution_count": 40,
   "metadata": {},
   "outputs": [
    {
     "name": "stdout",
     "output_type": "stream",
     "text": [
      "168469.6\n"
     ]
    }
   ],
   "source": [
    "highest_purchase_price = purchase_price.max()\n",
    "print(highest_purchase_price)"
   ]
  },
  {
   "cell_type": "code",
   "execution_count": 41,
   "metadata": {},
   "outputs": [
    {
     "name": "stdout",
     "output_type": "stream",
     "text": [
      "0.0\n"
     ]
    }
   ],
   "source": [
    "lowest_purchase_price = purchase_price.min()\n",
    "print(lowest_purchase_price)"
   ]
  },
  {
   "cell_type": "markdown",
   "metadata": {},
   "source": [
    "#### Select all the customers we have in Spain"
   ]
  },
  {
   "cell_type": "code",
   "execution_count": 42,
   "metadata": {},
   "outputs": [
    {
     "name": "stdout",
     "output_type": "stream",
     "text": [
      "[12557 17097 12540 12551 12484 12539 12510 12421 12502 12462 12507 12541\n",
      " 12547 12597 12545 12596 12354 12417 12455 12450 12548 12556 12550 12546\n",
      " 12454 12448 12544 12538 12445 12442]\n"
     ]
    }
   ],
   "source": [
    "customers_in_spain = orders.query('Country == \"Spain\"')\n",
    "unique_customers_in_spain = customers_in_spain['CustomerID'].unique()\n",
    "print(unique_customers_in_spain)"
   ]
  },
  {
   "cell_type": "markdown",
   "metadata": {},
   "source": [
    "#### How many customers do we have in Spain?\n",
    "##### Hint : Use value_counts()"
   ]
  },
  {
   "cell_type": "code",
   "execution_count": 43,
   "metadata": {},
   "outputs": [
    {
     "name": "stdout",
     "output_type": "stream",
     "text": [
      "30\n"
     ]
    }
   ],
   "source": [
    "unique_customers_in_spain_count = customers_in_spain['CustomerID'].nunique()\n",
    "print(unique_customers_in_spain_count)"
   ]
  },
  {
   "cell_type": "markdown",
   "metadata": {},
   "source": [
    "#### Select all the customers who have bought more than 50 items ?"
   ]
  },
  {
   "cell_type": "code",
   "execution_count": 44,
   "metadata": {},
   "outputs": [
    {
     "name": "stdout",
     "output_type": "stream",
     "text": [
      "46        13748\n",
      "83        15291\n",
      "96        14688\n",
      "102       14688\n",
      "174       16029\n",
      "          ...  \n",
      "397720    18102\n",
      "397721    16626\n",
      "397729    16626\n",
      "397761    15311\n",
      "397882    13777\n",
      "Name: CustomerID, Length: 11609, dtype: int64\n"
     ]
    }
   ],
   "source": [
    "over_50 = orders.query('Quantity > 50')\n",
    "customers_over_50 = over_50['CustomerID']\n",
    "print(customers_over_50)"
   ]
  },
  {
   "cell_type": "markdown",
   "metadata": {},
   "source": [
    "#### Select orders from Spain that are above 50 items"
   ]
  },
  {
   "cell_type": "code",
   "execution_count": 50,
   "metadata": {},
   "outputs": [
    {
     "name": "stdout",
     "output_type": "stream",
     "text": [
      "        Unnamed: 0  InvoiceNo StockCode  year  month  day  hour  \\\n",
      "4250          6421     536944     22383  2010     12    5    12   \n",
      "4251          6422     536944     22384  2010     12    5    12   \n",
      "4252          6423     536944     20727  2010     12    5    12   \n",
      "4253          6424     536944     20725  2010     12    5    12   \n",
      "4254          6425     536944     20728  2010     12    5    12   \n",
      "32454        52416     540785    84997B  2011      1    2    11   \n",
      "32455        52417     540785    84997D  2011      1    2    11   \n",
      "32456        52418     540785    84997C  2011      1    2    11   \n",
      "32457        52419     540785    84997A  2011      1    2    11   \n",
      "91155       136767     547972     22383  2011      3    1    16   \n",
      "91156       136768     547972     22384  2011      3    1    16   \n",
      "91159       136771     547972     20728  2011      3    1    16   \n",
      "174442      248797     558871     22384  2011      7    1    13   \n",
      "174443      248798     558871     20727  2011      7    1    13   \n",
      "174444      248799     558871     20725  2011      7    1    13   \n",
      "174445      248800     558871     20728  2011      7    1    13   \n",
      "174446      248801     558871    84997B  2011      7    1    13   \n",
      "174447      248802     558871    84997D  2011      7    1    13   \n",
      "174448      248803     558871    84997C  2011      7    1    13   \n",
      "174449      248804     558871    84997A  2011      7    1    13   \n",
      "197167      282906     561669     23295  2011      7    4    17   \n",
      "197168      282907     561669     23297  2011      7    4    17   \n",
      "197169      282908     561669     23294  2011      7    4    17   \n",
      "197170      282909     561669     23296  2011      7    4    17   \n",
      "197171      282910     561669     23293  2011      7    4    17   \n",
      "224881      315702     564734     84826  2011      8    7    13   \n",
      "254097      355752     567968     85204  2011      9    5     9   \n",
      "289129      398626     571255    82494L  2011     10    5    17   \n",
      "289134      398631     571255     82482  2011     10    5    17   \n",
      "289142      398639     571255    72802B  2011     10    5    17   \n",
      "289143      398640     571255    72802C  2011     10    5    17   \n",
      "295956      407272     571851     23167  2011     10    3    13   \n",
      "312655      426665     573362     22598  2011     10    7    13   \n",
      "312656      426666     573362     22597  2011     10    7    13   \n",
      "312657      426667     573362     22599  2011     10    7    13   \n",
      "366326      495739     578321     20728  2011     11    3    16   \n",
      "366327      495740     578321    84997B  2011     11    3    16   \n",
      "366328      495741     578321    84997D  2011     11    3    16   \n",
      "366329      495742     578321    84997C  2011     11    3    16   \n",
      "\n",
      "                                Description  Quantity          InvoiceDate  \\\n",
      "4250                lunch bag suki  design         70  2010-12-03 12:20:00   \n",
      "4251                lunch bag pink polkadot       100  2010-12-03 12:20:00   \n",
      "4252                lunch bag  black skull.        60  2010-12-03 12:20:00   \n",
      "4253                lunch bag red retrospot        70  2010-12-03 12:20:00   \n",
      "4254                    lunch bag cars blue       100  2010-12-03 12:20:00   \n",
      "32454     red 3 piece retrospot cutlery set       144  2011-01-11 11:39:00   \n",
      "32455     pink 3 piece polkadot cutlery set       360  2011-01-11 11:39:00   \n",
      "32456     blue 3 piece polkadot cutlery set       360  2011-01-11 11:39:00   \n",
      "32457    green 3 piece polkadot cutlery set       144  2011-01-11 11:39:00   \n",
      "91155                lunch bag suki design        150  2011-03-28 16:41:00   \n",
      "91156               lunch bag pink polkadot       150  2011-03-28 16:41:00   \n",
      "91159                   lunch bag cars blue       150  2011-03-28 16:41:00   \n",
      "174442              lunch bag pink polkadot       100  2011-07-04 13:19:00   \n",
      "174443              lunch bag  black skull.       100  2011-07-04 13:19:00   \n",
      "174444              lunch bag red retrospot       100  2011-07-04 13:19:00   \n",
      "174445                  lunch bag cars blue       100  2011-07-04 13:19:00   \n",
      "174446     childrens cutlery retrospot red         72  2011-07-04 13:19:00   \n",
      "174447      childrens cutlery polkadot pink       360  2011-07-04 13:19:00   \n",
      "174448      childrens cutlery polkadot blue       360  2011-07-04 13:19:00   \n",
      "174449    childrens cutlery polkadot green         72  2011-07-04 13:19:00   \n",
      "197167     set of 12 mini loaf baking cases       128  2011-07-28 17:09:00   \n",
      "197168  set 40 heart shape petit four cases       144  2011-07-28 17:09:00   \n",
      "197169     set of 6 snack loaf baking cases       128  2011-07-28 17:09:00   \n",
      "197170       set of 6 tea time baking cases       128  2011-07-28 17:09:00   \n",
      "197171    set of 12 fairy cake baking cases       128  2011-07-28 17:09:00   \n",
      "224881       asstd design 3d paper stickers        60  2011-08-28 13:32:00   \n",
      "254097         hanging wood and felt flower        96  2011-09-23 09:44:00   \n",
      "289129          wooden frame antique white         72  2011-10-14 17:13:00   \n",
      "289134    wooden picture frame white finish        72  2011-10-14 17:13:00   \n",
      "289142   ocean scent candle in jewelled box       200  2011-10-14 17:13:00   \n",
      "289143    vanilla scent candle jewelled box       288  2011-10-14 17:13:00   \n",
      "295956       small ceramic top storage jar         96  2011-10-19 13:02:00   \n",
      "312655          christmas musical zinc tree        72  2011-10-30 13:06:00   \n",
      "312656       musical zinc heart decoration         72  2011-10-30 13:06:00   \n",
      "312657          christmas musical zinc star        72  2011-10-30 13:06:00   \n",
      "366326                  lunch bag cars blue       200  2011-11-23 16:59:00   \n",
      "366327     childrens cutlery retrospot red         72  2011-11-23 16:59:00   \n",
      "366328      childrens cutlery polkadot pink       360  2011-11-23 16:59:00   \n",
      "366329      childrens cutlery polkadot blue       288  2011-11-23 16:59:00   \n",
      "\n",
      "        UnitPrice  CustomerID Country  amount_spent  \n",
      "4250         1.65       12557   Spain        115.50  \n",
      "4251         1.45       12557   Spain        145.00  \n",
      "4252         1.65       12557   Spain         99.00  \n",
      "4253         1.65       12557   Spain        115.50  \n",
      "4254         1.45       12557   Spain        145.00  \n",
      "32454        3.39       12557   Spain        488.16  \n",
      "32455        3.39       12557   Spain       1220.40  \n",
      "32456        3.39       12557   Spain       1220.40  \n",
      "32457        3.39       12557   Spain        488.16  \n",
      "91155        1.45       12557   Spain        217.50  \n",
      "91156        1.45       12557   Spain        217.50  \n",
      "91159        1.45       12557   Spain        217.50  \n",
      "174442       1.45       12557   Spain        145.00  \n",
      "174443       1.45       12557   Spain        145.00  \n",
      "174444       1.45       12557   Spain        145.00  \n",
      "174445       1.45       12557   Spain        145.00  \n",
      "174446       3.75       12557   Spain        270.00  \n",
      "174447       3.75       12557   Spain       1350.00  \n",
      "174448       3.75       12557   Spain       1350.00  \n",
      "174449       3.75       12557   Spain        270.00  \n",
      "197167       0.72       12507   Spain         92.16  \n",
      "197168       1.45       12507   Spain        208.80  \n",
      "197169       0.72       12507   Spain         92.16  \n",
      "197170       1.04       12507   Spain        133.12  \n",
      "197171       0.72       12507   Spain         92.16  \n",
      "224881       0.85       12484   Spain         51.00  \n",
      "254097       0.12       12546   Spain         11.52  \n",
      "289129       2.55       12454   Spain        183.60  \n",
      "289134       2.55       12454   Spain        183.60  \n",
      "289142       1.25       12454   Spain        250.00  \n",
      "289143       1.25       12454   Spain        360.00  \n",
      "295956       0.69       12596   Spain         66.24  \n",
      "312655       0.29       12597   Spain         20.88  \n",
      "312656       0.29       12597   Spain         20.88  \n",
      "312657       0.29       12597   Spain         20.88  \n",
      "366326       1.45       12557   Spain        290.00  \n",
      "366327       3.75       12557   Spain        270.00  \n",
      "366328       3.75       12557   Spain       1350.00  \n",
      "366329       3.75       12557   Spain       1080.00  \n"
     ]
    }
   ],
   "source": [
    "spain_over_50 = over_50.query('Country == \"Spain\"')\n",
    "print(spain_over_50)"
   ]
  },
  {
   "cell_type": "markdown",
   "metadata": {},
   "source": [
    "#### Select all free orders"
   ]
  },
  {
   "cell_type": "code",
   "execution_count": 51,
   "metadata": {
    "scrolled": true
   },
   "outputs": [
    {
     "name": "stdout",
     "output_type": "stream",
     "text": [
      "        Unnamed: 0  InvoiceNo StockCode  year  month  day  hour  \\\n",
      "6914          9302     537197     22841  2010     12    7    14   \n",
      "22539        33576     539263     22580  2010     12    4    14   \n",
      "25379        40089     539722     22423  2010     12    2    13   \n",
      "29080        47068     540372     22090  2011      1    4    16   \n",
      "29082        47070     540372     22553  2011      1    4    16   \n",
      "34494        56674     541109     22168  2011      1    4    15   \n",
      "53788        86789     543599    84535B  2011      2    4    13   \n",
      "85671       130188     547417     22062  2011      3    3    10   \n",
      "92875       139453     548318     22055  2011      3    3    12   \n",
      "97430       145208     548871     22162  2011      4    1    14   \n",
      "107192      157042     550188     22636  2011      4    4    18   \n",
      "128641      187613     553000     47566  2011      5    4    15   \n",
      "137127      198383     554037     22619  2011      5    5    14   \n",
      "194648      279324     561284     22167  2011      7    2    12   \n",
      "197173      282912     561669     22960  2011      7    4    17   \n",
      "199711      285657     561916         M  2011      8    1    11   \n",
      "208950      298054     562973     23157  2011      8    4    11   \n",
      "223931      314745     564651     23270  2011      8    5    14   \n",
      "223932      314746     564651     23268  2011      8    5    14   \n",
      "223933      314747     564651     22955  2011      8    5    14   \n",
      "223934      314748     564651     21786  2011      8    5    14   \n",
      "256263      358655     568158      PADS  2011      9    7    12   \n",
      "259399      361825     568384         M  2011      9    2     9   \n",
      "273926      379913     569716     22778  2011     10    4     8   \n",
      "286507      395529     571035         M  2011     10    4    12   \n",
      "307092      420404     572893     21208  2011     10    3    14   \n",
      "319882      436428     574138     23234  2011     11    4    11   \n",
      "320049      436597     574175     22065  2011     11    4    11   \n",
      "320407      436961     574252         M  2011     11    4    13   \n",
      "322279      439361     574469     22385  2011     11    5    11   \n",
      "328385      446125     574879     22625  2011     11    1    13   \n",
      "329006      446793     574920     22899  2011     11    1    16   \n",
      "329007      446794     574920     23480  2011     11    1    16   \n",
      "334242      454463     575579     22437  2011     11    4    11   \n",
      "334243      454464     575579     22089  2011     11    4    11   \n",
      "352746      479079     577129     22464  2011     11    4    19   \n",
      "353097      479546     577168         M  2011     11    5    10   \n",
      "354170      480649     577314     23407  2011     11    5    13   \n",
      "358629      485985     577696         M  2011     11    1    11   \n",
      "370473      502122     578841     84826  2011     11    5    15   \n",
      "\n",
      "                                Description  Quantity          InvoiceDate  \\\n",
      "6914           round cake tin vintage green         1  2010-12-05 14:02:00   \n",
      "22539          advent calendar gingham sack         4  2010-12-16 14:36:00   \n",
      "25379              regency cakestand 3 tier        10  2010-12-21 13:45:00   \n",
      "29080               paper bunting retrospot        24  2011-01-06 16:41:00   \n",
      "29082                plasters in tin skulls        24  2011-01-06 16:41:00   \n",
      "34494         organiser wood antique white          1  2011-01-13 15:10:00   \n",
      "53788          fairy cakes notebook a6 size        16  2011-02-10 13:08:00   \n",
      "85671   ceramic bowl with love heart design        36  2011-03-23 10:25:00   \n",
      "92875    mini cake stand  hanging strawbery         5  2011-03-30 12:45:00   \n",
      "97430           heart garland rustic padded         2  2011-04-04 14:42:00   \n",
      "107192   childs breakfast set circus parade         1  2011-04-14 18:57:00   \n",
      "128641                        party bunting         4  2011-05-12 15:21:00   \n",
      "137127            set of 6 soldier skittles        80  2011-05-20 14:13:00   \n",
      "194648           oval wall mirror diamante          1  2011-07-26 12:24:00   \n",
      "197173             jam making set with jars        11  2011-07-28 17:09:00   \n",
      "199711                               manual         1  2011-08-01 11:44:00   \n",
      "208950           set of 6 nativity magnets        240  2011-08-11 11:42:00   \n",
      "223931     set of 2 ceramic painted hearts         96  2011-08-26 14:19:00   \n",
      "223932  set of 2 ceramic christmas reindeer       192  2011-08-26 14:19:00   \n",
      "223933             36 foil star cake cases        144  2011-08-26 14:19:00   \n",
      "223934                   polkadot rain hat        144  2011-08-26 14:19:00   \n",
      "256263           pads to match all cushions         1  2011-09-25 12:22:00   \n",
      "259399                               manual         1  2011-09-27 09:46:00   \n",
      "273926                   glass cloche small         2  2011-10-06 08:17:00   \n",
      "286507                               manual         1  2011-10-13 12:50:00   \n",
      "307092          pastel colour honeycomb fan         5  2011-10-26 14:36:00   \n",
      "319882        biscuit tin vintage christmas       216  2011-11-03 11:26:00   \n",
      "320049       christmas pudding trinket pot         12  2011-11-03 11:47:00   \n",
      "320407                               manual         1  2011-11-03 13:24:00   \n",
      "322279            jumbo bag spaceboy design        12  2011-11-04 11:55:00   \n",
      "328385                   red kitchen scales         2  2011-11-07 13:22:00   \n",
      "329006         children's apron dolly girl          1  2011-11-07 16:34:00   \n",
      "329007       mini lights woodland mushrooms         1  2011-11-07 16:34:00   \n",
      "334242        set of 9 black skull balloons        20  2011-11-10 11:49:00   \n",
      "334243        paper bunting vintage paisley        24  2011-11-10 11:49:00   \n",
      "352746          hanging metal heart lantern         4  2011-11-17 19:52:00   \n",
      "353097                               manual         1  2011-11-18 10:42:00   \n",
      "354170       set of 2 trays home sweet home         2  2011-11-18 13:23:00   \n",
      "358629                               manual         1  2011-11-21 11:57:00   \n",
      "370473       asstd design 3d paper stickers     12540  2011-11-25 15:57:00   \n",
      "\n",
      "        UnitPrice  CustomerID         Country  amount_spent  \n",
      "6914          0.0       12647         Germany           0.0  \n",
      "22539         0.0       16560  United Kingdom           0.0  \n",
      "25379         0.0       14911            EIRE           0.0  \n",
      "29080         0.0       13081  United Kingdom           0.0  \n",
      "29082         0.0       13081  United Kingdom           0.0  \n",
      "34494         0.0       15107  United Kingdom           0.0  \n",
      "53788         0.0       17560  United Kingdom           0.0  \n",
      "85671         0.0       13239  United Kingdom           0.0  \n",
      "92875         0.0       13113  United Kingdom           0.0  \n",
      "97430         0.0       14410  United Kingdom           0.0  \n",
      "107192        0.0       12457     Switzerland           0.0  \n",
      "128641        0.0       17667  United Kingdom           0.0  \n",
      "137127        0.0       12415       Australia           0.0  \n",
      "194648        0.0       16818  United Kingdom           0.0  \n",
      "197173        0.0       12507           Spain           0.0  \n",
      "199711        0.0       15581  United Kingdom           0.0  \n",
      "208950        0.0       14911            EIRE           0.0  \n",
      "223931        0.0       14646     Netherlands           0.0  \n",
      "223932        0.0       14646     Netherlands           0.0  \n",
      "223933        0.0       14646     Netherlands           0.0  \n",
      "223934        0.0       14646     Netherlands           0.0  \n",
      "256263        0.0       16133  United Kingdom           0.0  \n",
      "259399        0.0       12748  United Kingdom           0.0  \n",
      "273926        0.0       15804  United Kingdom           0.0  \n",
      "286507        0.0       12446             RSA           0.0  \n",
      "307092        0.0       18059  United Kingdom           0.0  \n",
      "319882        0.0       12415       Australia           0.0  \n",
      "320049        0.0       14110  United Kingdom           0.0  \n",
      "320407        0.0       12437          France           0.0  \n",
      "322279        0.0       12431       Australia           0.0  \n",
      "328385        0.0       13014  United Kingdom           0.0  \n",
      "329006        0.0       13985  United Kingdom           0.0  \n",
      "329007        0.0       13985  United Kingdom           0.0  \n",
      "334242        0.0       13081  United Kingdom           0.0  \n",
      "334243        0.0       13081  United Kingdom           0.0  \n",
      "352746        0.0       15602  United Kingdom           0.0  \n",
      "353097        0.0       12603         Germany           0.0  \n",
      "354170        0.0       12444          Norway           0.0  \n",
      "358629        0.0       16406  United Kingdom           0.0  \n",
      "370473        0.0       13256  United Kingdom           0.0  \n"
     ]
    }
   ],
   "source": [
    "free_orders = orders.query('amount_spent == 0')\n",
    "print(free_orders)"
   ]
  },
  {
   "cell_type": "markdown",
   "metadata": {},
   "source": [
    "#### Select all orders that are 'lunch bag'\n",
    "#### Hint: Use string functions"
   ]
  },
  {
   "cell_type": "code",
   "execution_count": 53,
   "metadata": {},
   "outputs": [
    {
     "name": "stdout",
     "output_type": "stream",
     "text": [
      "        Unnamed: 0  InvoiceNo StockCode  year  month  day  hour  \\\n",
      "93              93     536378     20725  2010     12    3     9   \n",
      "172            174     536385     22662  2010     12    3     9   \n",
      "354            363     536401     22662  2010     12    3    11   \n",
      "359            368     536401     20725  2010     12    3    11   \n",
      "360            369     536401     22382  2010     12    3    11   \n",
      "...            ...        ...       ...   ...    ...  ...   ...   \n",
      "397465      540436     581486     23207  2011     12    5     9   \n",
      "397713      541695     581538     20727  2011     12    5    11   \n",
      "397714      541696     581538     20725  2011     12    5    11   \n",
      "397877      541862     581581     23681  2011     12    5    12   \n",
      "397880      541865     581583     20725  2011     12    5    12   \n",
      "\n",
      "                        Description  Quantity          InvoiceDate  UnitPrice  \\\n",
      "93          lunch bag red retrospot        10  2010-12-01 09:37:00       1.65   \n",
      "172     lunch bag dolly girl design        10  2010-12-01 09:56:00       1.65   \n",
      "354     lunch bag dolly girl design         1  2010-12-01 11:21:00       1.65   \n",
      "359         lunch bag red retrospot         1  2010-12-01 11:21:00       1.65   \n",
      "360      lunch bag spaceboy design          2  2010-12-01 11:21:00       1.65   \n",
      "...                             ...       ...                  ...        ...   \n",
      "397465    lunch bag alphabet design        10  2011-12-09 09:38:00       1.65   \n",
      "397713      lunch bag  black skull.         1  2011-12-09 11:34:00       1.65   \n",
      "397714      lunch bag red retrospot         1  2011-12-09 11:34:00       1.65   \n",
      "397877  lunch bag red vintage doily        10  2011-12-09 12:20:00       1.65   \n",
      "397880      lunch bag red retrospot        40  2011-12-09 12:23:00       1.45   \n",
      "\n",
      "        CustomerID         Country  amount_spent  \n",
      "93           14688  United Kingdom         16.50  \n",
      "172          17420  United Kingdom         16.50  \n",
      "354          15862  United Kingdom          1.65  \n",
      "359          15862  United Kingdom          1.65  \n",
      "360          15862  United Kingdom          3.30  \n",
      "...            ...             ...           ...  \n",
      "397465       17001  United Kingdom         16.50  \n",
      "397713       14446  United Kingdom          1.65  \n",
      "397714       14446  United Kingdom          1.65  \n",
      "397877       17581  United Kingdom         16.50  \n",
      "397880       13777  United Kingdom         58.00  \n",
      "\n",
      "[11556 rows x 14 columns]\n"
     ]
    }
   ],
   "source": [
    "lunch_bag_orders = orders[orders['Description'].str.contains('lunch bag', case = 'False')]\n",
    "\n",
    "lunch_bag_orders = orders.query('Description.str.contains(\"lunch bag\", case = False)')\n",
    "\n",
    "print(lunch_bag_orders)"
   ]
  },
  {
   "cell_type": "markdown",
   "metadata": {},
   "source": [
    "#### Select all orders that are made in 2011 and are 'lunch bag'  "
   ]
  },
  {
   "cell_type": "code",
   "execution_count": 54,
   "metadata": {},
   "outputs": [
    {
     "name": "stdout",
     "output_type": "stream",
     "text": [
      "        Unnamed: 0  InvoiceNo StockCode  year  month  day  hour  \\\n",
      "26340        42678     540015     20725  2011      1    2    11   \n",
      "26341        42679     540015     20726  2011      1    2    11   \n",
      "26512        42851     540023     22382  2011      1    2    12   \n",
      "26513        42852     540023     20726  2011      1    2    12   \n",
      "26860        43616     540098     22384  2011      1    2    15   \n",
      "...            ...        ...       ...   ...    ...  ...   ...   \n",
      "397465      540436     581486     23207  2011     12    5     9   \n",
      "397713      541695     581538     20727  2011     12    5    11   \n",
      "397714      541696     581538     20725  2011     12    5    11   \n",
      "397877      541862     581581     23681  2011     12    5    12   \n",
      "397880      541865     581583     20725  2011     12    5    12   \n",
      "\n",
      "                        Description  Quantity          InvoiceDate  UnitPrice  \\\n",
      "26340       lunch bag red retrospot        10  2011-01-04 11:40:00       1.65   \n",
      "26341            lunch bag woodland        10  2011-01-04 11:40:00       1.65   \n",
      "26512    lunch bag spaceboy design          2  2011-01-04 12:58:00       1.65   \n",
      "26513            lunch bag woodland         1  2011-01-04 12:58:00       1.65   \n",
      "26860       lunch bag pink polkadot         1  2011-01-04 15:50:00       1.65   \n",
      "...                             ...       ...                  ...        ...   \n",
      "397465    lunch bag alphabet design        10  2011-12-09 09:38:00       1.65   \n",
      "397713      lunch bag  black skull.         1  2011-12-09 11:34:00       1.65   \n",
      "397714      lunch bag red retrospot         1  2011-12-09 11:34:00       1.65   \n",
      "397877  lunch bag red vintage doily        10  2011-12-09 12:20:00       1.65   \n",
      "397880      lunch bag red retrospot        40  2011-12-09 12:23:00       1.45   \n",
      "\n",
      "        CustomerID         Country  amount_spent  \n",
      "26340        13319  United Kingdom         16.50  \n",
      "26341        13319  United Kingdom         16.50  \n",
      "26512        15039  United Kingdom          3.30  \n",
      "26513        15039  United Kingdom          1.65  \n",
      "26860        16241  United Kingdom          1.65  \n",
      "...            ...             ...           ...  \n",
      "397465       17001  United Kingdom         16.50  \n",
      "397713       14446  United Kingdom          1.65  \n",
      "397714       14446  United Kingdom          1.65  \n",
      "397877       17581  United Kingdom         16.50  \n",
      "397880       13777  United Kingdom         58.00  \n",
      "\n",
      "[11234 rows x 14 columns]\n"
     ]
    }
   ],
   "source": [
    "lunch_bag_2011 = lunch_bag_orders.query('year == 2011')\n",
    "print(lunch_bag_2011)"
   ]
  },
  {
   "cell_type": "markdown",
   "metadata": {},
   "source": [
    "#### Show the frequency distribution of the amount spent in Spain."
   ]
  },
  {
   "cell_type": "code",
   "execution_count": 55,
   "metadata": {},
   "outputs": [
    {
     "name": "stdout",
     "output_type": "stream",
     "text": [
      "amount_spent\n",
      "0.00       1\n",
      "0.21       3\n",
      "0.29       1\n",
      "0.39       3\n",
      "0.42       1\n",
      "          ..\n",
      "417.50     1\n",
      "488.16     2\n",
      "1080.00    1\n",
      "1220.40    2\n",
      "1350.00    3\n",
      "Name: count, Length: 318, dtype: int64\n"
     ]
    }
   ],
   "source": [
    "orders_spain = orders.query('Country == \"Spain\"')\n",
    "amount_spent_distribution = orders_spain['amount_spent'].value_counts().sort_index()\n",
    "print(amount_spent_distribution)"
   ]
  },
  {
   "cell_type": "markdown",
   "metadata": {},
   "source": [
    "#### Select all orders made in the month of August"
   ]
  },
  {
   "cell_type": "code",
   "execution_count": 56,
   "metadata": {},
   "outputs": [
    {
     "name": "stdout",
     "output_type": "stream",
     "text": [
      "Empty DataFrame\n",
      "Columns: [Unnamed: 0, InvoiceNo, StockCode, year, month, day, hour, Description, Quantity, InvoiceDate, UnitPrice, CustomerID, Country, amount_spent]\n",
      "Index: []\n"
     ]
    }
   ],
   "source": [
    "august_orders = orders.query('month == \"August\"')\n",
    "print(august_orders)"
   ]
  },
  {
   "cell_type": "markdown",
   "metadata": {},
   "source": [
    "#### Select how many orders are made by countries in the month of August\n",
    "##### Hint: Use value_counts()"
   ]
  },
  {
   "cell_type": "code",
   "execution_count": 57,
   "metadata": {},
   "outputs": [
    {
     "name": "stdout",
     "output_type": "stream",
     "text": [
      "Series([], Name: count, dtype: int64)\n"
     ]
    }
   ],
   "source": [
    "august_orders_by_country = august_orders['Country'].value_counts()\n",
    "print(august_orders_by_country)"
   ]
  },
  {
   "cell_type": "markdown",
   "metadata": {},
   "source": [
    "#### What's the  average amount of money spent by country"
   ]
  },
  {
   "cell_type": "code",
   "execution_count": 58,
   "metadata": {
    "scrolled": true
   },
   "outputs": [
    {
     "name": "stdout",
     "output_type": "stream",
     "text": [
      "Country\n",
      "Australia               116.895620\n",
      "Austria                  25.624824\n",
      "Bahrain                  32.258824\n",
      "Belgium                  20.283772\n",
      "Brazil                   35.737500\n",
      "Canada                   24.280662\n",
      "Channel Islands          27.340160\n",
      "Cyprus                   22.134169\n",
      "Czech Republic           33.069600\n",
      "Denmark                  49.882474\n",
      "EIRE                     36.687745\n",
      "European Community       21.670833\n",
      "Finland                  32.913985\n",
      "France                   25.056827\n",
      "Germany                  25.311562\n",
      "Greece                   32.831172\n",
      "Iceland                  23.681319\n",
      "Israel                   29.119718\n",
      "Italy                    23.064960\n",
      "Japan                   116.561900\n",
      "Lebanon                  37.641778\n",
      "Lithuania                47.458857\n",
      "Malta                    24.335625\n",
      "Netherlands             120.798282\n",
      "Norway                   33.736418\n",
      "Poland                   22.226212\n",
      "Portugal                 22.872702\n",
      "RSA                      17.281207\n",
      "Saudi Arabia             16.213333\n",
      "Singapore                95.852658\n",
      "Spain                    24.779521\n",
      "Sweden                   85.096075\n",
      "Switzerland              30.642752\n",
      "USA                      20.002179\n",
      "United Arab Emirates     27.974706\n",
      "United Kingdom           20.625073\n",
      "Unspecified              10.930615\n",
      "Name: amount_spent, dtype: float64\n"
     ]
    }
   ],
   "source": [
    "amount_spent_per_country = orders.groupby('Country')['amount_spent'].mean()\n",
    "print(amount_spent_per_country)"
   ]
  },
  {
   "cell_type": "markdown",
   "metadata": {},
   "source": [
    "#### What's the most expensive item?"
   ]
  },
  {
   "cell_type": "code",
   "execution_count": 61,
   "metadata": {},
   "outputs": [
    {
     "name": "stdout",
     "output_type": "stream",
     "text": [
      "Unnamed: 0                     173382\n",
      "InvoiceNo                      551697\n",
      "StockCode                        POST\n",
      "year                             2011\n",
      "month                               5\n",
      "day                                 2\n",
      "hour                               13\n",
      "Description                   postage\n",
      "Quantity                            1\n",
      "InvoiceDate       2011-05-03 13:46:00\n",
      "UnitPrice                     8142.75\n",
      "CustomerID                      16029\n",
      "Country                United Kingdom\n",
      "amount_spent                  8142.75\n",
      "price_per_unit                8142.75\n",
      "Name: 118352, dtype: object\n"
     ]
    }
   ],
   "source": [
    "# Calculate price per unit for each item\n",
    "orders['price_per_unit'] = orders['amount_spent'] / orders['Quantity']\n",
    "\n",
    "# Find the row with the highest price per unit\n",
    "most_expensive_item = orders.loc[orders['price_per_unit'].idxmax()]\n",
    "\n",
    "print(most_expensive_item)"
   ]
  },
  {
   "cell_type": "markdown",
   "metadata": {},
   "source": [
    "#### What was the average amount spent per year ?"
   ]
  },
  {
   "cell_type": "code",
   "execution_count": 64,
   "metadata": {},
   "outputs": [
    {
     "name": "stdout",
     "output_type": "stream",
     "text": [
      "year\n",
      "2010    21.892733\n",
      "2011    22.430074\n",
      "Name: amount_spent, dtype: float64\n"
     ]
    }
   ],
   "source": [
    "average_spent_per_year = orders.groupby('year')['amount_spent'].mean()\n",
    "print(average_spent_per_year)"
   ]
  },
  {
   "cell_type": "code",
   "execution_count": null,
   "metadata": {},
   "outputs": [],
   "source": []
  }
 ],
 "metadata": {
  "anaconda-cloud": {},
  "kernelspec": {
   "display_name": "Python 3 (ipykernel)",
   "language": "python",
   "name": "python3"
  },
  "language_info": {
   "codemirror_mode": {
    "name": "ipython",
    "version": 3
   },
   "file_extension": ".py",
   "mimetype": "text/x-python",
   "name": "python",
   "nbconvert_exporter": "python",
   "pygments_lexer": "ipython3",
   "version": "3.9.6"
  }
 },
 "nbformat": 4,
 "nbformat_minor": 4
}
